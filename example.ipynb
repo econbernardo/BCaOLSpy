{
 "cells": [
  {
   "cell_type": "code",
   "execution_count": 1,
   "metadata": {},
   "outputs": [],
   "source": [
    "import numpy as np\n",
    "import pandas as pd\n",
    "from BCaOLSpy import BiasCorrectedOLS\n"
   ]
  },
  {
   "cell_type": "markdown",
   "metadata": {},
   "source": [
    "- The regression equation is\n",
    "$$y_i = \\beta_x x_i + \\beta_z z_i + u_i$$\n",
    "with $\\beta_x = 1$, $\\beta_z = -1$, \n",
    "- $x_i, z_i$ jointly normal with mean zero, covariance 1, and correlation 0.3. \n",
    "- Errors are lognormally distributed with $\\mu=0$ and $\\sigma = 0.5$.\n",
    "The location is shifted by subtracting $e^{\\sigma^2/2}$ so that they are mean zero. "
   ]
  },
  {
   "cell_type": "code",
   "execution_count": 2,
   "metadata": {},
   "outputs": [],
   "source": [
    "np.random.seed(21)\n",
    "\n",
    "# Simulating x and z\n",
    "n = 50\n",
    "rho = 0.3\n",
    "var_xz = 1\n",
    "\n",
    "mean = [0, 0]\n",
    "cov = [[var_xz, rho * var_xz], [rho * var_xz, var_xz]]\n",
    "x, z = np.random.multivariate_normal(mean, cov, n).T\n",
    "beta_x, beta_z = 1.0, -1.0"
   ]
  },
  {
   "cell_type": "code",
   "execution_count": 3,
   "metadata": {},
   "outputs": [],
   "source": [
    "# generating DGP for y\n",
    "mu = 0\n",
    "sigma = 0.5\n",
    "u = np.random.lognormal(mean=mu, sigma=sigma, size=n) - np.exp(sigma**2/2)\n",
    "y = beta_x * x + beta_z * z + u"
   ]
  },
  {
   "cell_type": "code",
   "execution_count": 4,
   "metadata": {},
   "outputs": [],
   "source": [
    "# Create a DataFrame\n",
    "df_example = pd.DataFrame({'y': y, 'x': x, 'z': z})\n"
   ]
  },
  {
   "cell_type": "code",
   "execution_count": 5,
   "metadata": {},
   "outputs": [
    {
     "name": "stderr",
     "output_type": "stream",
     "text": [
      "Bootstrap Simulation: 100%|██████████| 1000/1000 [00:06<00:00, 148.05it/s]\n",
      "Jackknife running...: 100%|██████████| 50/50 [00:00<00:00, 129.03it/s]\n"
     ]
    }
   ],
   "source": [
    "# Initialize and run analysis\n",
    "bc_ols_example = BiasCorrectedOLS(df=df_example, dependent_var='y', independent_vars=['x', 'z'], verbose=True)\n",
    "ols_coefs, ols_conf_int, _ = bc_ols_example.run_regression()\n",
    "bc_ols_example.perform_bootstrap(n_sim=1_000)\n",
    "bc_ols_example.perform_jackknife()\n",
    "\n",
    "# Calculate BCa CI for each coefficient\n",
    "beta_hat_x, bca_x, bca_ci_x = bc_ols_example.bca_estimate(ols_coefs['x'], bc_ols_example.bootstrap_distribution['x'], bc_ols_example.jackknife_distribution['x'])\n",
    "beta_hat_z, bca_z, bca_ci_z = bc_ols_example.bca_estimate(ols_coefs['z'], bc_ols_example.bootstrap_distribution['z'], bc_ols_example.jackknife_distribution['z'])"
   ]
  },
  {
   "cell_type": "code",
   "execution_count": 6,
   "metadata": {},
   "outputs": [
    {
     "data": {
      "text/plain": [
       "{'Regular OLS Coefficients': Intercept   -0.160220\n",
       " x            1.021542\n",
       " z           -0.899324\n",
       " dtype: float64,\n",
       " 'Regular OLS CI for x': [0.9070654269717732, 1.1360180518845857],\n",
       " 'Regular OLS CI for z': [-0.9946313174258888, -0.8040162839862101],\n",
       " 'Original OLS beta for x': 1.0215417394281794,\n",
       " 'Bias Corrected Estimate for x': 1.0225383791442992,\n",
       " 'BCa CI for x': (0.894544602449739, 1.139566033148775),\n",
       " 'Original OLS beta for z': -0.8993238007060494,\n",
       " 'Bias Corrected Estimate for z': -0.899449708786618,\n",
       " 'BCa CI for z': (-1.0108064813087114, -0.8132203371969363)}"
      ]
     },
     "execution_count": 6,
     "metadata": {},
     "output_type": "execute_result"
    }
   ],
   "source": [
    "# Display the results\n",
    "{\n",
    "    \"Regular OLS Coefficients\": ols_coefs,\n",
    "    \"Regular OLS CI for x\": ols_conf_int.loc['x'].tolist(),\n",
    "    \"Regular OLS CI for z\": ols_conf_int.loc['z'].tolist(),\n",
    "    \"Original OLS beta for x\": beta_hat_x,\n",
    "    \"Bias Corrected Estimate for x\": bca_x,\n",
    "    \"BCa CI for x\": bca_ci_x,\n",
    "    \"Original OLS beta for z\": beta_hat_z,\n",
    "    \"Bias Corrected Estimate for z\": bca_z,\n",
    "    \"BCa CI for z\": bca_ci_z\n",
    "}"
   ]
  },
  {
   "cell_type": "code",
   "execution_count": null,
   "metadata": {},
   "outputs": [],
   "source": []
  }
 ],
 "metadata": {
  "kernelspec": {
   "display_name": "jax",
   "language": "python",
   "name": "python3"
  },
  "language_info": {
   "codemirror_mode": {
    "name": "ipython",
    "version": 3
   },
   "file_extension": ".py",
   "mimetype": "text/x-python",
   "name": "python",
   "nbconvert_exporter": "python",
   "pygments_lexer": "ipython3",
   "version": "3.12.3"
  }
 },
 "nbformat": 4,
 "nbformat_minor": 2
}
